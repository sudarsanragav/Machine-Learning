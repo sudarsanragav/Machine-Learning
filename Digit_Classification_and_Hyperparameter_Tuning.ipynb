{
  "nbformat": 4,
  "nbformat_minor": 0,
  "metadata": {
    "colab": {
      "name": "Digit Classification and Hyperparameter Tuning.ipynb",
      "provenance": [],
      "collapsed_sections": [],
      "authorship_tag": "ABX9TyPJgh+bFaQYPbBfJz64tWNA",
      "include_colab_link": true
    },
    "kernelspec": {
      "name": "python3",
      "display_name": "Python 3"
    },
    "language_info": {
      "name": "python"
    }
  },
  "cells": [
    {
      "cell_type": "markdown",
      "metadata": {
        "id": "view-in-github",
        "colab_type": "text"
      },
      "source": [
        "<a href=\"https://colab.research.google.com/github/sudarsanragav/Machine-Learning/blob/sudarsanragav-DeepLearning-1/Digit_Classification_and_Hyperparameter_Tuning.ipynb\" target=\"_parent\"><img src=\"https://colab.research.google.com/assets/colab-badge.svg\" alt=\"Open In Colab\"/></a>"
      ]
    },
    {
      "cell_type": "code",
      "execution_count": 70,
      "metadata": {
        "id": "zIw5SKoX-nkN"
      },
      "outputs": [],
      "source": [
        "import tensorflow as tf\n",
        "import keras\n",
        "from keras import layers\n",
        "from keras import models\n",
        "from keras import utils\n",
        "from keras.layers import Dense\n",
        "from keras.models import Sequential\n",
        "from keras.layers import Flatten\n",
        "from keras.layers import Dropout\n",
        "from keras.layers import Activation\n",
        "from keras.regularizers import l2\n",
        "from tensorflow.keras.optimizers import SGD\n",
        "from tensorflow.keras.optimizers import RMSprop\n",
        "from keras import datasets\n",
        "\n",
        "from keras.callbacks import LearningRateScheduler\n",
        "from keras.callbacks import History\n",
        "\n",
        "from keras import losses\n",
        "from sklearn.utils import shuffle\n"
      ]
    },
    {
      "cell_type": "code",
      "source": [
        "#fix random seed for reproducibility\n",
        "import numpy as np\n",
        "np.random.seed(5)"
      ],
      "metadata": {
        "id": "znj-P5drFWvN"
      },
      "execution_count": 71,
      "outputs": []
    },
    {
      "cell_type": "markdown",
      "source": [
        "### Step 1 - Deciding on the Network Topology (not really considered optimization but is obviously very important)\n",
        "\n",
        "we will use the MNIST dataset which consists of grayscale images of handwritten digits(0-9) whose dimesion of 28*28px."
      ],
      "metadata": {
        "id": "m8VrSaWiGMOK"
      }
    },
    {
      "cell_type": "code",
      "source": [
        "#mnist = tf.keras.datasets.mnist\n",
        "mnist = keras.datasets.mnist\n",
        "(x_train,y_train),(x_test, y_test) = mnist.load_data()\n",
        "x_train.shape,y_train.shape"
      ],
      "metadata": {
        "colab": {
          "base_uri": "https://localhost:8080/"
        },
        "id": "PhXgl9qhF0lK",
        "outputId": "6d46eee7-1469-4327-bcc9-6fcf2bd92f96"
      },
      "execution_count": 72,
      "outputs": [
        {
          "output_type": "execute_result",
          "data": {
            "text/plain": [
              "((60000, 28, 28), (60000,))"
            ]
          },
          "metadata": {},
          "execution_count": 72
        }
      ]
    },
    {
      "cell_type": "code",
      "source": [
        "print(y_train)"
      ],
      "metadata": {
        "colab": {
          "base_uri": "https://localhost:8080/"
        },
        "id": "y3RZ-URlHR6j",
        "outputId": "2c9f3409-6409-4225-84db-3c6db4a3ac9d"
      },
      "execution_count": 73,
      "outputs": [
        {
          "output_type": "stream",
          "name": "stdout",
          "text": [
            "[5 0 4 ... 5 6 8]\n"
          ]
        }
      ]
    },
    {
      "cell_type": "markdown",
      "source": [
        "Let's look at some 10 of the Images"
      ],
      "metadata": {
        "id": "whxU9YmDJrXh"
      }
    },
    {
      "cell_type": "code",
      "source": [
        "from matplotlib import pyplot as plt\n",
        "plt.figure(figsize=(10,10))\n",
        "for i in range(10):\n",
        "   plt.subplot(5,5,i+1)\n",
        "   plt.xticks([])\n",
        "   plt.yticks([])\n",
        "   plt.grid(False)\n",
        "   plt.imshow(x_train[i], cmap=plt.cm.binary)\n",
        "   plt.xlabel(y_train[i])"
      ],
      "metadata": {
        "colab": {
          "base_uri": "https://localhost:8080/",
          "height": 251
        },
        "id": "R-IV6nRVHWLR",
        "outputId": "0b883a0e-e94a-4c9d-8e82-b5ffb5755de9"
      },
      "execution_count": 74,
      "outputs": [
        {
          "output_type": "display_data",
          "data": {
            "image/png": "[encoded data removed]",
            "text/plain": [
              "<Figure size 720x720 with 10 Axes>"
            ]
          },
          "metadata": {}
        }
      ]
    },
    {
      "cell_type": "code",
      "source": [
        "five = x_train[0].copy()\n",
        "plt.imshow(five,cmap = plt.cm.binary)"
      ],
      "metadata": {
        "colab": {
          "base_uri": "https://localhost:8080/",
          "height": 282
        },
        "id": "NBRzaLHkI2-r",
        "outputId": "ab787417-9549-45de-f7ea-0bdcf9e5f111"
      },
      "execution_count": 75,
      "outputs": [
        {
          "output_type": "execute_result",
          "data": {
            "text/plain": [
              "<matplotlib.image.AxesImage at 0x7fd0f7822bd0>"
            ]
          },
          "metadata": {},
          "execution_count": 75
        },
        {
          "output_type": "display_data",
          "data": {
            "image/png": "[encoded data removed]",
            "text/plain": [
              "<Figure size 432x288 with 1 Axes>"
            ]
          },
          "metadata": {
            "needs_background": "light"
          }
        }
      ]
    },
    {
      "cell_type": "code",
      "source": [
        "print(five[6])\n",
        "five[five>0]=255\n",
        "print(five[6])\n",
        "# five[five<255]=255\n",
        "# five[five == 255]=0\n",
        "\n",
        "\n",
        "plt.imshow(five,cmap= plt.cm.binary)"
      ],
      "metadata": {
        "colab": {
          "base_uri": "https://localhost:8080/",
          "height": 352
        },
        "id": "VYb-_H9hLZbo",
        "outputId": "837b13f9-bfbe-4d67-e73e-2debfd95cada"
      },
      "execution_count": 76,
      "outputs": [
        {
          "output_type": "stream",
          "name": "stdout",
          "text": [
            "[  0   0   0   0   0   0   0   0  30  36  94 154 170 253 253 253 253 253\n",
            " 225 172 253 242 195  64   0   0   0   0]\n",
            "[  0   0   0   0   0   0   0   0 255 255 255 255 255 255 255 255 255 255\n",
            " 255 255 255 255 255 255   0   0   0   0]\n"
          ]
        },
        {
          "output_type": "execute_result",
          "data": {
            "text/plain": [
              "<matplotlib.image.AxesImage at 0x7fd0f778fb90>"
            ]
          },
          "metadata": {},
          "execution_count": 76
        },
        {
          "output_type": "display_data",
          "data": {
            "image/png": "[encoded data removed]",
            "text/plain": [
              "<Figure size 432x288 with 1 Axes>"
            ]
          },
          "metadata": {
            "needs_background": "light"
          }
        }
      ]
    },
    {
      "cell_type": "code",
      "source": [
        "print(f'We have {x_train.shape[0]} train Samples')\n",
        "print(f'We have {x_test.shape[0]} test Samples')"
      ],
      "metadata": {
        "colab": {
          "base_uri": "https://localhost:8080/"
        },
        "id": "ZRSbZbp5LuZY",
        "outputId": "802bbe80-d570-4772-ce49-7382fa983ba8"
      },
      "execution_count": 77,
      "outputs": [
        {
          "output_type": "stream",
          "name": "stdout",
          "text": [
            "We have 60000 train Samples\n",
            "We have 10000 test Samples\n"
          ]
        }
      ]
    },
    {
      "cell_type": "markdown",
      "source": [
        "### Preprocessing the Data\n",
        "\n",
        "to run our NN we need to pre-process the data\n",
        "                                                   First we need to make the 2D image arraysinto 1D(flatten them). We can either perform this by using array reshaping with numpy.reshape() or the keras' method for this: a layer called tf.keras.layers.Flatten which transforms the format of the images from a 2d-array(of 28 by 28 pixels), to a 1-D array of 28*28 = 784 pixels.\n",
        "\n",
        "  Then we need to normalize the pixel values(give them values between 0 and 1) using the following tranformation:\n",
        "\n"
      ],
      "metadata": {
        "id": "oM9jsH2AObOn"
      }
    },
    {
      "cell_type": "code",
      "source": [
        "# normalize the data\n",
        "x_train, x_test = x_train/ 255.0,x_test/255.0"
      ],
      "metadata": {
        "id": "Fmws3CR-MhE7"
      },
      "execution_count": 78,
      "outputs": []
    },
    {
      "cell_type": "code",
      "source": [
        "#reshape the data into 1D Vectors\n",
        " \n",
        "x_train = x_train.reshape(60000, 784)\n",
        "x_test = x_test.reshape(10000, 784)\n",
        "\n",
        "num_classes = 10"
      ],
      "metadata": {
        "id": "S-tEt82sN-RY"
      },
      "execution_count": 79,
      "outputs": []
    },
    {
      "cell_type": "code",
      "source": [
        "x_train.shape[1]"
      ],
      "metadata": {
        "colab": {
          "base_uri": "https://localhost:8080/"
        },
        "id": "aayxMg7AO5hu",
        "outputId": "eb1f23bd-94f1-4c63-ed73-52875adcb095"
      },
      "execution_count": null,
      "outputs": [
        {
          "output_type": "execute_result",
          "data": {
            "text/plain": [
              "784"
            ]
          },
          "metadata": {},
          "execution_count": 41
        }
      ]
    },
    {
      "cell_type": "markdown",
      "source": [
        "Now let's prepare our vector(y) to a binary class matrix, eg for use with categorical_crossentropy"
      ],
      "metadata": {
        "id": "fXRiqZ-LPBGg"
      }
    },
    {
      "cell_type": "code",
      "source": [
        "# Convert class vectors to binary class Matrices\n",
        "y_train = tf.keras.utils.to_categorical(y_train, num_classes)\n",
        "y_test = tf.keras.utils.to_categorical(y_test, num_classes)"
      ],
      "metadata": {
        "id": "dgZEnzsAO_cS"
      },
      "execution_count": 80,
      "outputs": []
    },
    {
      "cell_type": "code",
      "source": [
        "y_train[0]"
      ],
      "metadata": {
        "colab": {
          "base_uri": "https://localhost:8080/"
        },
        "id": "vdI6ZKCDPnan",
        "outputId": "4d07bd74-73ac-405c-a383-3097dfa0f3e0"
      },
      "execution_count": 81,
      "outputs": [
        {
          "output_type": "execute_result",
          "data": {
            "text/plain": [
              "array([0., 0., 0., 0., 0., 1., 0., 0., 0., 0.], dtype=float32)"
            ]
          },
          "metadata": {},
          "execution_count": 81
        }
      ]
    },
    {
      "cell_type": "markdown",
      "source": [
        "### Step - 2  Adjusting the Learning Rate"
      ],
      "metadata": {
        "id": "uwwhzvcuP8m0"
      }
    },
    {
      "cell_type": "code",
      "source": [
        "epochs = 60\n",
        "learning_rate = 0.1\n",
        "decay_rate = learning_rate / epochs\n",
        "momentum = 0.8\n",
        "\n",
        "sgd = SGD(lr = learning_rate, momentum= momentum, decay =decay_rate , nesterov = False )"
      ],
      "metadata": {
        "colab": {
          "base_uri": "https://localhost:8080/"
        },
        "id": "2KmItbsyP7hp",
        "outputId": "2766b32b-9eb1-438a-81d5-7f5f66a54e53"
      },
      "execution_count": null,
      "outputs": [
        {
          "output_type": "stream",
          "name": "stderr",
          "text": [
            "/usr/local/lib/python3.7/dist-packages/keras/optimizer_v2/gradient_descent.py:102: UserWarning: The `lr` argument is deprecated, use `learning_rate` instead.\n",
            "  super(SGD, self).__init__(name, **kwargs)\n"
          ]
        }
      ]
    },
    {
      "cell_type": "code",
      "source": [
        "# build the  MOdel\n",
        "input_dim = x_train.shape[1]\n",
        "\n",
        "lr_model = Sequential()\n",
        "lr_model.add(Dense(64, activation=tf.nn.relu, kernel_initializer='uniform',\n",
        "                   input_dim = input_dim))\n",
        "lr_model.add(Dropout(0.1))\n",
        "lr_model.add(Dense(64, kernel_initializer='uniform', activation=tf.nn.relu))\n",
        "lr_model.add(Dense(num_classes, kernel_initializer='uniform',activation=tf.nn.softmax))\n",
        "#compile the model\n",
        "lr_model.compile(loss = 'categorical_crossentropy',\n",
        "                 optimizer=sgd,\n",
        "                 metrics=['acc'])"
      ],
      "metadata": {
        "id": "SMnPayC0SA5n"
      },
      "execution_count": 82,
      "outputs": []
    },
    {
      "cell_type": "code",
      "source": [
        "# %%time\n",
        "#Fit the Model\n",
        "batch_size = int(input_dim/100)\n",
        "\n",
        "lr_model_history = lr_model.fit(x_train, y_train,batch_size=batch_size, epochs=epochs,\n",
        "                                verbose = 1,\n",
        "                                validation_data=(x_test, y_test))"
      ],
      "metadata": {
        "colab": {
          "base_uri": "https://localhost:8080/"
        },
        "id": "Cp5PAeEWTdb2",
        "outputId": "593dcb8d-0a41-4a49-e112-5ac9fa7ddd47"
      },
      "execution_count": 83,
      "outputs": [
        {
          "output_type": "stream",
          "name": "stdout",
          "text": [
            "Epoch 1/60\n",
            "8572/8572 [==============================] - 16s 2ms/step - loss: 2.3030 - acc: 0.0667 - val_loss: 2.3029 - val_acc: 0.0877\n",
            "Epoch 2/60\n",
            "8572/8572 [==============================] - 16s 2ms/step - loss: 2.3028 - acc: 0.1022 - val_loss: 2.3027 - val_acc: 0.1209\n",
            "Epoch 3/60\n",
            "8572/8572 [==============================] - 16s 2ms/step - loss: 2.3027 - acc: 0.1202 - val_loss: 2.3026 - val_acc: 0.1302\n",
            "Epoch 4/60\n",
            "8572/8572 [==============================] - 27s 3ms/step - loss: 2.3026 - acc: 0.1287 - val_loss: 2.3025 - val_acc: 0.1329\n",
            "Epoch 5/60\n",
            "8572/8572 [==============================] - 22s 3ms/step - loss: 2.3025 - acc: 0.1319 - val_loss: 2.3024 - val_acc: 0.1333\n",
            "Epoch 6/60\n",
            "8572/8572 [==============================] - 16s 2ms/step - loss: 2.3024 - acc: 0.1326 - val_loss: 2.3023 - val_acc: 0.1337\n",
            "Epoch 7/60\n",
            "8572/8572 [==============================] - 16s 2ms/step - loss: 2.3024 - acc: 0.1336 - val_loss: 2.3023 - val_acc: 0.1340\n",
            "Epoch 8/60\n",
            "8572/8572 [==============================] - 20s 2ms/step - loss: 2.3024 - acc: 0.1344 - val_loss: 2.3022 - val_acc: 0.1334\n",
            "Epoch 9/60\n",
            "8572/8572 [==============================] - 18s 2ms/step - loss: 2.3023 - acc: 0.1330 - val_loss: 2.3022 - val_acc: 0.1334\n",
            "Epoch 10/60\n",
            "8572/8572 [==============================] - 16s 2ms/step - loss: 2.3023 - acc: 0.1337 - val_loss: 2.3022 - val_acc: 0.1334\n",
            "Epoch 11/60\n",
            "8572/8572 [==============================] - 15s 2ms/step - loss: 2.3022 - acc: 0.1338 - val_loss: 2.3021 - val_acc: 0.1336\n",
            "Epoch 12/60\n",
            "8572/8572 [==============================] - 15s 2ms/step - loss: 2.3022 - acc: 0.1339 - val_loss: 2.3021 - val_acc: 0.1336\n",
            "Epoch 13/60\n",
            "8572/8572 [==============================] - 14s 2ms/step - loss: 2.3022 - acc: 0.1347 - val_loss: 2.3021 - val_acc: 0.1335\n",
            "Epoch 14/60\n",
            "8572/8572 [==============================] - 14s 2ms/step - loss: 2.3022 - acc: 0.1330 - val_loss: 2.3021 - val_acc: 0.1334\n",
            "Epoch 15/60\n",
            "8572/8572 [==============================] - 20s 2ms/step - loss: 2.3021 - acc: 0.1333 - val_loss: 2.3020 - val_acc: 0.1333\n",
            "Epoch 16/60\n",
            "8572/8572 [==============================] - 16s 2ms/step - loss: 2.3021 - acc: 0.1332 - val_loss: 2.3020 - val_acc: 0.1334\n",
            "Epoch 17/60\n",
            "8572/8572 [==============================] - 14s 2ms/step - loss: 2.3021 - acc: 0.1332 - val_loss: 2.3020 - val_acc: 0.1335\n",
            "Epoch 18/60\n",
            "8572/8572 [==============================] - 14s 2ms/step - loss: 2.3021 - acc: 0.1333 - val_loss: 2.3020 - val_acc: 0.1332\n",
            "Epoch 19/60\n",
            "8572/8572 [==============================] - 14s 2ms/step - loss: 2.3021 - acc: 0.1332 - val_loss: 2.3020 - val_acc: 0.1332\n",
            "Epoch 20/60\n",
            "8572/8572 [==============================] - 14s 2ms/step - loss: 2.3020 - acc: 0.1332 - val_loss: 2.3019 - val_acc: 0.1329\n",
            "Epoch 21/60\n",
            "8572/8572 [==============================] - 14s 2ms/step - loss: 2.3020 - acc: 0.1336 - val_loss: 2.3019 - val_acc: 0.1322\n",
            "Epoch 22/60\n",
            "8572/8572 [==============================] - 15s 2ms/step - loss: 2.3020 - acc: 0.1326 - val_loss: 2.3019 - val_acc: 0.1321\n",
            "Epoch 23/60\n",
            "8572/8572 [==============================] - 14s 2ms/step - loss: 2.3020 - acc: 0.1329 - val_loss: 2.3019 - val_acc: 0.1318\n",
            "Epoch 24/60\n",
            "8572/8572 [==============================] - 18s 2ms/step - loss: 2.3020 - acc: 0.1326 - val_loss: 2.3019 - val_acc: 0.1320\n",
            "Epoch 25/60\n",
            "8572/8572 [==============================] - 15s 2ms/step - loss: 2.3020 - acc: 0.1329 - val_loss: 2.3019 - val_acc: 0.1320\n",
            "Epoch 26/60\n",
            "8572/8572 [==============================] - 14s 2ms/step - loss: 2.3020 - acc: 0.1326 - val_loss: 2.3019 - val_acc: 0.1318\n",
            "Epoch 27/60\n",
            "8572/8572 [==============================] - 14s 2ms/step - loss: 2.3019 - acc: 0.1328 - val_loss: 2.3018 - val_acc: 0.1319\n",
            "Epoch 28/60\n",
            "8572/8572 [==============================] - 14s 2ms/step - loss: 2.3019 - acc: 0.1318 - val_loss: 2.3018 - val_acc: 0.1319\n",
            "Epoch 29/60\n",
            "8572/8572 [==============================] - 15s 2ms/step - loss: 2.3019 - acc: 0.1320 - val_loss: 2.3018 - val_acc: 0.1316\n",
            "Epoch 30/60\n",
            "8572/8572 [==============================] - 16s 2ms/step - loss: 2.3019 - acc: 0.1311 - val_loss: 2.3018 - val_acc: 0.1314\n",
            "Epoch 31/60\n",
            "8572/8572 [==============================] - 14s 2ms/step - loss: 2.3019 - acc: 0.1320 - val_loss: 2.3018 - val_acc: 0.1310\n",
            "Epoch 32/60\n",
            "8572/8572 [==============================] - 15s 2ms/step - loss: 2.3019 - acc: 0.1307 - val_loss: 2.3018 - val_acc: 0.1309\n",
            "Epoch 33/60\n",
            "8572/8572 [==============================] - 15s 2ms/step - loss: 2.3019 - acc: 0.1309 - val_loss: 2.3018 - val_acc: 0.1308\n",
            "Epoch 34/60\n",
            "8572/8572 [==============================] - 14s 2ms/step - loss: 2.3019 - acc: 0.1306 - val_loss: 2.3018 - val_acc: 0.1307\n",
            "Epoch 35/60\n",
            "8572/8572 [==============================] - 14s 2ms/step - loss: 2.3019 - acc: 0.1313 - val_loss: 2.3018 - val_acc: 0.1305\n",
            "Epoch 36/60\n",
            "8572/8572 [==============================] - 14s 2ms/step - loss: 2.3019 - acc: 0.1308 - val_loss: 2.3018 - val_acc: 0.1304\n",
            "Epoch 37/60\n",
            "8572/8572 [==============================] - 15s 2ms/step - loss: 2.3019 - acc: 0.1306 - val_loss: 2.3017 - val_acc: 0.1303\n",
            "Epoch 38/60\n",
            "8572/8572 [==============================] - 14s 2ms/step - loss: 2.3018 - acc: 0.1297 - val_loss: 2.3017 - val_acc: 0.1299\n",
            "Epoch 39/60\n",
            "8572/8572 [==============================] - 15s 2ms/step - loss: 2.3018 - acc: 0.1309 - val_loss: 2.3017 - val_acc: 0.1299\n",
            "Epoch 40/60\n",
            "8572/8572 [==============================] - 14s 2ms/step - loss: 2.3018 - acc: 0.1307 - val_loss: 2.3017 - val_acc: 0.1300\n",
            "Epoch 41/60\n",
            "8572/8572 [==============================] - 15s 2ms/step - loss: 2.3018 - acc: 0.1299 - val_loss: 2.3017 - val_acc: 0.1298\n",
            "Epoch 42/60\n",
            "8572/8572 [==============================] - 15s 2ms/step - loss: 2.3018 - acc: 0.1308 - val_loss: 2.3017 - val_acc: 0.1297\n",
            "Epoch 43/60\n",
            "8572/8572 [==============================] - 15s 2ms/step - loss: 2.3018 - acc: 0.1303 - val_loss: 2.3017 - val_acc: 0.1297\n",
            "Epoch 44/60\n",
            "8572/8572 [==============================] - 14s 2ms/step - loss: 2.3018 - acc: 0.1303 - val_loss: 2.3017 - val_acc: 0.1297\n",
            "Epoch 45/60\n",
            "8572/8572 [==============================] - 14s 2ms/step - loss: 2.3018 - acc: 0.1300 - val_loss: 2.3017 - val_acc: 0.1297\n",
            "Epoch 46/60\n",
            "8572/8572 [==============================] - 14s 2ms/step - loss: 2.3018 - acc: 0.1296 - val_loss: 2.3017 - val_acc: 0.1297\n",
            "Epoch 47/60\n",
            "8572/8572 [==============================] - 14s 2ms/step - loss: 2.3018 - acc: 0.1303 - val_loss: 2.3017 - val_acc: 0.1294\n",
            "Epoch 48/60\n",
            "8572/8572 [==============================] - 15s 2ms/step - loss: 2.3018 - acc: 0.1294 - val_loss: 2.3017 - val_acc: 0.1293\n",
            "Epoch 49/60\n",
            "8572/8572 [==============================] - 14s 2ms/step - loss: 2.3018 - acc: 0.1299 - val_loss: 2.3017 - val_acc: 0.1291\n",
            "Epoch 50/60\n",
            "8572/8572 [==============================] - 15s 2ms/step - loss: 2.3018 - acc: 0.1295 - val_loss: 2.3017 - val_acc: 0.1291\n",
            "Epoch 51/60\n",
            "8572/8572 [==============================] - 15s 2ms/step - loss: 2.3018 - acc: 0.1295 - val_loss: 2.3017 - val_acc: 0.1289\n",
            "Epoch 52/60\n",
            "8572/8572 [==============================] - 16s 2ms/step - loss: 2.3018 - acc: 0.1295 - val_loss: 2.3017 - val_acc: 0.1289\n",
            "Epoch 53/60\n",
            "8572/8572 [==============================] - 15s 2ms/step - loss: 2.3018 - acc: 0.1292 - val_loss: 2.3016 - val_acc: 0.1291\n",
            "Epoch 54/60\n",
            "8572/8572 [==============================] - 14s 2ms/step - loss: 2.3018 - acc: 0.1289 - val_loss: 2.3016 - val_acc: 0.1291\n",
            "Epoch 55/60\n",
            "8572/8572 [==============================] - 15s 2ms/step - loss: 2.3018 - acc: 0.1294 - val_loss: 2.3016 - val_acc: 0.1287\n",
            "Epoch 56/60\n",
            "8572/8572 [==============================] - 14s 2ms/step - loss: 2.3018 - acc: 0.1295 - val_loss: 2.3016 - val_acc: 0.1286\n",
            "Epoch 57/60\n",
            "8572/8572 [==============================] - 14s 2ms/step - loss: 2.3017 - acc: 0.1289 - val_loss: 2.3016 - val_acc: 0.1282\n",
            "Epoch 58/60\n",
            "8572/8572 [==============================] - 15s 2ms/step - loss: 2.3017 - acc: 0.1285 - val_loss: 2.3016 - val_acc: 0.1281\n",
            "Epoch 59/60\n",
            "8572/8572 [==============================] - 14s 2ms/step - loss: 2.3017 - acc: 0.1291 - val_loss: 2.3016 - val_acc: 0.1280\n",
            "Epoch 60/60\n",
            "8572/8572 [==============================] - 15s 2ms/step - loss: 2.3017 - acc: 0.1285 - val_loss: 2.3016 - val_acc: 0.1280\n"
          ]
        }
      ]
    },
    {
      "cell_type": "code",
      "source": [
        "fig, ax = plt.subplots(1,1,  figsize= (10,6))\n",
        "ax.plot(np.sqrt(lr_model_history.history['loss']),'r', label = 'train')\n",
        "ax.plot(np.sqrt(lr_model_history.history['val_loss']),'b', label = 'val')\n",
        "ax.set_xlabel(r'Epoch', fontsize = 20)\n",
        "ax.set_ylabel(r'Loss', fontsize = 20)\n",
        "ax.legend()\n",
        "ax.tick_params(labelsize = 20)"
      ],
      "metadata": {
        "colab": {
          "base_uri": "https://localhost:8080/",
          "height": 406
        },
        "id": "Tscp48l9VzRc",
        "outputId": "e24c5a39-322b-4948-f8ba-5d3d6680364e"
      },
      "execution_count": null,
      "outputs": [
        {
          "output_type": "display_data",
          "data": {
            "image/png": "[encoded data removed]",
            "text/plain": [
              "<Figure size 720x432 with 1 Axes>"
            ]
          },
          "metadata": {
            "needs_background": "light"
          }
        }
      ]
    },
    {
      "cell_type": "code",
      "source": [
        "fig, ax = plt.subplots(1,1,  figsize= (10,6))\n",
        "ax.plot(np.sqrt(lr_model_history.history['acc']),'r', label = 'train')\n",
        "ax.plot(np.sqrt(lr_model_history.history['val_acc']),'r', label = 'val')\n",
        "ax.set_xlabel(r'Epoch', fontsize = 20)\n",
        "ax.set_ylabel(r'Accuracy', fontsize = 20)\n",
        "ax.legend()\n",
        "ax.tick_params(labelsize = 20)"
      ],
      "metadata": {
        "colab": {
          "base_uri": "https://localhost:8080/",
          "height": 406
        },
        "id": "jrcl4d_Mbenm",
        "outputId": "67b02d98-1385-4047-9c82-d1984087e0d5"
      },
      "execution_count": null,
      "outputs": [
        {
          "output_type": "display_data",
          "data": {
            "image/png": "[encoded data removed]",
            "text/plain": [
              "<Figure size 720x432 with 1 Axes>"
            ]
          },
          "metadata": {
            "needs_background": "light"
          }
        }
      ]
    },
    {
      "cell_type": "code",
      "source": [
        "#solution\n",
        "\n",
        "epochs =30\n",
        "learning_rate = 0.1 #initial learning rate\n",
        "decay_rate = 0.1\n",
        "momentum = 0.8\n",
        "\n",
        "#define the optimizer function\n",
        "sgd = SGD(lr= learning_rate, momentum= momentum, decay=decay_rate, nesterov = False) "
      ],
      "metadata": {
        "colab": {
          "base_uri": "https://localhost:8080/"
        },
        "id": "Z9_CrEjtdceh",
        "outputId": "dead7a3b-5878-4785-8ad0-aa699d3453bf"
      },
      "execution_count": null,
      "outputs": [
        {
          "output_type": "stream",
          "name": "stderr",
          "text": [
            "/usr/local/lib/python3.7/dist-packages/keras/optimizer_v2/gradient_descent.py:102: UserWarning: The `lr` argument is deprecated, use `learning_rate` instead.\n",
            "  super(SGD, self).__init__(name, **kwargs)\n"
          ]
        }
      ]
    },
    {
      "cell_type": "code",
      "source": [
        "from keras.activations import exponential\n",
        "input_dim = x_train.shape[1]\n",
        "num_classes = 10\n",
        "batch_size = 196\n",
        "\n",
        "#build the model\n",
        "exponential_decay_model = Sequential()\n",
        "exponential_decay_model.add(Dense(64, activation = tf.nn.relu, kernel_initializer='uniform',\n",
        "                                  input_dim = input_dim))\n",
        "exponential_decay_model.add(Dropout(0.1))\n",
        "exponential_decay_model.add(Dense(64, kernel_initializer='uniform',\n",
        "                                  activation = tf.nn.relu))\n",
        "exponential_decay_model.add(Dense(num_classes, kernel_initializer='uniform',\n",
        "                                  activation = tf.nn.softmax))\n",
        "\n",
        "#compile the model\n",
        "exponential_decay_model.compile(loss='categorical_crossentropy',\n",
        "                                optimizer=sgd,\n",
        "                                metrics=['acc'])"
      ],
      "metadata": {
        "id": "BQrUuJ4giQQg"
      },
      "execution_count": null,
      "outputs": []
    },
    {
      "cell_type": "code",
      "source": [
        "#define the learning rate change\n",
        "\n",
        "def exp_decay(epoch):\n",
        "  lrate = learning_rate * np.exp(-decay_rate*epoch)\n",
        "  return lrate\n"
      ],
      "metadata": {
        "id": "zuedbQp-kKZ7"
      },
      "execution_count": null,
      "outputs": []
    },
    {
      "cell_type": "code",
      "source": [
        "# learning Schedule callback\n",
        "loss_history = History()\n",
        "lr_rate = LearningRateScheduler(exp_decay)\n",
        "callbacks_list = (loss_history, lr_rate)\n",
        "\n",
        "#you involve the LearningRateScheduler during the .fit() phase\n",
        "exponential_decay_model_history = exponential_decay_model.fit(x_train, y_train,\n",
        "                                                              batch_size = batch_size,\n",
        "                                                              epochs =epochs,\n",
        "                                                              callbacks=callbacks_list,\n",
        "                                                              verbose = 1,\n",
        "                                                              validation_data = (x_test,y_test))"
      ],
      "metadata": {
        "colab": {
          "base_uri": "https://localhost:8080/"
        },
        "id": "V9dQ8NdXkobI",
        "outputId": "ee5abe99-facc-4877-9343-f4fce36a7bd7"
      },
      "execution_count": null,
      "outputs": [
        {
          "output_type": "stream",
          "name": "stdout",
          "text": [
            "Epoch 1/30\n",
            "307/307 [==============================] - 2s 5ms/step - loss: 2.3015 - acc: 0.1120 - val_loss: 2.3011 - val_acc: 0.1135 - lr: 0.1000\n",
            "Epoch 2/30\n",
            "307/307 [==============================] - 1s 4ms/step - loss: 2.3012 - acc: 0.1124 - val_loss: 2.3010 - val_acc: 0.1135 - lr: 0.0905\n",
            "Epoch 3/30\n",
            "307/307 [==============================] - 1s 4ms/step - loss: 2.3012 - acc: 0.1124 - val_loss: 2.3010 - val_acc: 0.1135 - lr: 0.0819\n",
            "Epoch 4/30\n",
            "307/307 [==============================] - 1s 4ms/step - loss: 2.3012 - acc: 0.1124 - val_loss: 2.3010 - val_acc: 0.1135 - lr: 0.0741\n",
            "Epoch 5/30\n",
            "307/307 [==============================] - 1s 4ms/step - loss: 2.3012 - acc: 0.1124 - val_loss: 2.3010 - val_acc: 0.1135 - lr: 0.0670\n",
            "Epoch 6/30\n",
            "307/307 [==============================] - 1s 4ms/step - loss: 2.3012 - acc: 0.1124 - val_loss: 2.3010 - val_acc: 0.1135 - lr: 0.0607\n",
            "Epoch 7/30\n",
            "307/307 [==============================] - 1s 4ms/step - loss: 2.3012 - acc: 0.1124 - val_loss: 2.3010 - val_acc: 0.1135 - lr: 0.0549\n",
            "Epoch 8/30\n",
            "307/307 [==============================] - 1s 4ms/step - loss: 2.3012 - acc: 0.1124 - val_loss: 2.3010 - val_acc: 0.1135 - lr: 0.0497\n",
            "Epoch 9/30\n",
            "307/307 [==============================] - 1s 4ms/step - loss: 2.3012 - acc: 0.1124 - val_loss: 2.3010 - val_acc: 0.1135 - lr: 0.0449\n",
            "Epoch 10/30\n",
            "307/307 [==============================] - 1s 4ms/step - loss: 2.3012 - acc: 0.1124 - val_loss: 2.3010 - val_acc: 0.1135 - lr: 0.0407\n",
            "Epoch 11/30\n",
            "307/307 [==============================] - 1s 4ms/step - loss: 2.3012 - acc: 0.1124 - val_loss: 2.3010 - val_acc: 0.1135 - lr: 0.0368\n",
            "Epoch 12/30\n",
            "307/307 [==============================] - 1s 4ms/step - loss: 2.3012 - acc: 0.1124 - val_loss: 2.3010 - val_acc: 0.1135 - lr: 0.0333\n",
            "Epoch 13/30\n",
            "307/307 [==============================] - 1s 4ms/step - loss: 2.3012 - acc: 0.1124 - val_loss: 2.3010 - val_acc: 0.1135 - lr: 0.0301\n",
            "Epoch 14/30\n",
            "307/307 [==============================] - 1s 4ms/step - loss: 2.3012 - acc: 0.1124 - val_loss: 2.3010 - val_acc: 0.1135 - lr: 0.0273\n",
            "Epoch 15/30\n",
            "307/307 [==============================] - 1s 4ms/step - loss: 2.3012 - acc: 0.1124 - val_loss: 2.3010 - val_acc: 0.1135 - lr: 0.0247\n",
            "Epoch 16/30\n",
            "307/307 [==============================] - 1s 4ms/step - loss: 2.3012 - acc: 0.1124 - val_loss: 2.3010 - val_acc: 0.1135 - lr: 0.0223\n",
            "Epoch 17/30\n",
            "307/307 [==============================] - 1s 4ms/step - loss: 2.3012 - acc: 0.1124 - val_loss: 2.3010 - val_acc: 0.1135 - lr: 0.0202\n",
            "Epoch 18/30\n",
            "307/307 [==============================] - 1s 4ms/step - loss: 2.3012 - acc: 0.1124 - val_loss: 2.3010 - val_acc: 0.1135 - lr: 0.0183\n",
            "Epoch 19/30\n",
            "307/307 [==============================] - 1s 4ms/step - loss: 2.3011 - acc: 0.1124 - val_loss: 2.3010 - val_acc: 0.1135 - lr: 0.0165\n",
            "Epoch 20/30\n",
            "307/307 [==============================] - 1s 4ms/step - loss: 2.3011 - acc: 0.1124 - val_loss: 2.3010 - val_acc: 0.1135 - lr: 0.0150\n",
            "Epoch 21/30\n",
            "307/307 [==============================] - 1s 4ms/step - loss: 2.3011 - acc: 0.1124 - val_loss: 2.3010 - val_acc: 0.1135 - lr: 0.0135\n",
            "Epoch 22/30\n",
            "307/307 [==============================] - 1s 4ms/step - loss: 2.3012 - acc: 0.1124 - val_loss: 2.3010 - val_acc: 0.1135 - lr: 0.0122\n",
            "Epoch 23/30\n",
            "307/307 [==============================] - 1s 4ms/step - loss: 2.3011 - acc: 0.1124 - val_loss: 2.3010 - val_acc: 0.1135 - lr: 0.0111\n",
            "Epoch 24/30\n",
            "307/307 [==============================] - 1s 4ms/step - loss: 2.3011 - acc: 0.1124 - val_loss: 2.3010 - val_acc: 0.1135 - lr: 0.0100\n",
            "Epoch 25/30\n",
            "307/307 [==============================] - 1s 4ms/step - loss: 2.3011 - acc: 0.1124 - val_loss: 2.3010 - val_acc: 0.1135 - lr: 0.0091\n",
            "Epoch 26/30\n",
            "307/307 [==============================] - 1s 4ms/step - loss: 2.3011 - acc: 0.1124 - val_loss: 2.3010 - val_acc: 0.1135 - lr: 0.0082\n",
            "Epoch 27/30\n",
            "307/307 [==============================] - 1s 4ms/step - loss: 2.3011 - acc: 0.1124 - val_loss: 2.3010 - val_acc: 0.1135 - lr: 0.0074\n",
            "Epoch 28/30\n",
            "307/307 [==============================] - 1s 4ms/step - loss: 2.3012 - acc: 0.1124 - val_loss: 2.3010 - val_acc: 0.1135 - lr: 0.0067\n",
            "Epoch 29/30\n",
            "307/307 [==============================] - 1s 4ms/step - loss: 2.3011 - acc: 0.1124 - val_loss: 2.3010 - val_acc: 0.1135 - lr: 0.0061\n",
            "Epoch 30/30\n",
            "307/307 [==============================] - 1s 4ms/step - loss: 2.3011 - acc: 0.1124 - val_loss: 2.3010 - val_acc: 0.1135 - lr: 0.0055\n"
          ]
        }
      ]
    },
    {
      "cell_type": "code",
      "source": [
        "# build the Model \n",
        "input_dim = x_train.shape[1]\n",
        "\n",
        "model = Sequential()\n",
        "model.add(Dense(64, activation = tf.nn.relu, kernel_initializer='uniform',\n",
        "                                  input_dim = input_dim))\n",
        "model.add(Dropout(0.1))\n",
        "model.add(Dense(64, kernel_initializer='uniform',\n",
        "                                  activation = tf.nn.relu))\n",
        "model.add(Dense(num_classes, kernel_initializer='uniform',\n",
        "                                  activation = tf.nn.softmax))\n"
      ],
      "metadata": {
        "id": "6zB43S5-rFqC"
      },
      "execution_count": null,
      "outputs": []
    },
    {
      "cell_type": "code",
      "source": [
        "rms = RMSprop(lr = 0.001, rho = 0.9, epsilon = None , decay = 0.0)\n",
        "\n",
        "model.compile(loss = 'categorical_crossentropy',\n",
        "              optimizer = rms,\n",
        "              metrics = ['acc'])"
      ],
      "metadata": {
        "colab": {
          "base_uri": "https://localhost:8080/"
        },
        "id": "c-aotHW-mmR3",
        "outputId": "b5a62a32-d567-47cb-f276-220c50ad3424"
      },
      "execution_count": null,
      "outputs": [
        {
          "output_type": "stream",
          "name": "stderr",
          "text": [
            "/usr/local/lib/python3.7/dist-packages/keras/optimizer_v2/rmsprop.py:130: UserWarning: The `lr` argument is deprecated, use `learning_rate` instead.\n",
            "  super(RMSprop, self).__init__(name, **kwargs)\n"
          ]
        }
      ]
    },
    {
      "cell_type": "code",
      "source": [
        "batch_size= input_dim\n",
        "epochs = 60\n",
        "\n",
        "model_History = model.fit(x_train,y_train,batch_size= batch_size,epochs=epochs,\n",
        "                         verbose= 1,validation_data=(x_test,y_test))"
      ],
      "metadata": {
        "colab": {
          "base_uri": "https://localhost:8080/",
          "height": 217
        },
        "id": "1JCmg6DBsV-E",
        "outputId": "c4f0eb12-60e2-4bd5-c89f-c2bbd390f428"
      },
      "execution_count": null,
      "outputs": [
        {
          "output_type": "error",
          "ename": "AttributeError",
          "evalue": "ignored",
          "traceback": [
            "\u001b[0;31m---------------------------------------------------------------------------\u001b[0m",
            "\u001b[0;31mAttributeError\u001b[0m                            Traceback (most recent call last)",
            "\u001b[0;32m<ipython-input-69-6702755d19d7>\u001b[0m in \u001b[0;36m<module>\u001b[0;34m()\u001b[0m\n\u001b[1;32m      2\u001b[0m \u001b[0mepochs\u001b[0m \u001b[0;34m=\u001b[0m \u001b[0;36m60\u001b[0m\u001b[0;34m\u001b[0m\u001b[0;34m\u001b[0m\u001b[0m\n\u001b[1;32m      3\u001b[0m \u001b[0;34m\u001b[0m\u001b[0m\n\u001b[0;32m----> 4\u001b[0;31m model = model.fit(x_train,y_train,batch_size= batch_size,epochs=epochs,\n\u001b[0m\u001b[1;32m      5\u001b[0m                           callbacks= callbacks_list,verbose= 1,validation_data=(x_test,y_test))\n",
            "\u001b[0;31mAttributeError\u001b[0m: 'History' object has no attribute 'fit'"
          ]
        }
      ]
    },
    {
      "cell_type": "code",
      "source": [
        "score = model.evaluate(x_test, y_test, verbose = 0)\n",
        "print('Test loss', score[0])\n",
        "print('Test accuracy', score[1])"
      ],
      "metadata": {
        "id": "YFnc5FywuCUd"
      },
      "execution_count": null,
      "outputs": []
    }
  ]
}