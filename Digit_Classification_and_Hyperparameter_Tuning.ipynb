{
  "nbformat": 4,
  "nbformat_minor": 0,
  "metadata": {
    "colab": {
      "name": "Digit Classification and Hyperparameter Tuning.ipynb",
      "provenance": [],
      "collapsed_sections": [],
      "authorship_tag": "ABX9TyPJgh+bFaQYPbBfJz64tWNA",
      "include_colab_link": true
    },
    "kernelspec": {
      "name": "python3",
      "display_name": "Python 3"
    },
    "language_info": {
      "name": "python"
    }
  },
  "cells": [
    {
      "cell_type": "markdown",
      "metadata": {
        "id": "view-in-github",
        "colab_type": "text"
      },
      "source": [
        "<a href=\"https://colab.research.google.com/github/sudarsanragav/Machine-Learning/blob/sudarsanragav-DeepLearning-1/Digit_Classification_and_Hyperparameter_Tuning.ipynb\" target=\"_parent\"><img src=\"https://colab.research.google.com/assets/colab-badge.svg\" alt=\"Open In Colab\"/></a>"
      ]
    },
    {
      "cell_type": "code",
      "execution_count": 84,
      "metadata": {
        "id": "zIw5SKoX-nkN"
      },
      "outputs": [],
      "source": [
        "import tensorflow as tf\n",
        "import keras\n",
        "from keras import layers\n",
        "from keras import models\n",
        "from keras import utils\n",
        "from keras.layers import Dense\n",
        "from keras.models import Sequential\n",
        "from keras.layers import Flatten\n",
        "from keras.layers import Dropout\n",
        "from keras.layers import Activation\n",
        "from keras.regularizers import l2\n",
        "from tensorflow.keras.optimizers import SGD\n",
        "from tensorflow.keras.optimizers import RMSprop\n",
        "from keras import datasets\n",
        "\n",
        "from keras.callbacks import LearningRateScheduler\n",
        "from keras.callbacks import History\n",
        "\n",
        "from keras import losses\n",
        "from sklearn.utils import shuffle\n"
      ]
    },
    {
      "cell_type": "code",
      "source": [
        "#fix random seed for reproducibility\n",
        "import numpy as np\n",
        "np.random.seed(5)"
      ],
      "metadata": {
        "id": "znj-P5drFWvN"
      },
      "execution_count": 85,
      "outputs": []
    },
    {
      "cell_type": "markdown",
      "source": [
        "### Step 1 - Deciding on the Network Topology (not really considered optimization but is obviously very important)\n",
        "\n",
        "we will use the MNIST dataset which consists of grayscale images of handwritten digits(0-9) whose dimesion of 28*28px."
      ],
      "metadata": {
        "id": "m8VrSaWiGMOK"
      }
    },
    {
      "cell_type": "code",
      "source": [
        "#mnist = tf.keras.datasets.mnist\n",
        "mnist = keras.datasets.mnist\n",
        "(x_train,y_train),(x_test, y_test) = mnist.load_data()\n",
        "x_train.shape,y_train.shape"
      ],
      "metadata": {
        "colab": {
          "base_uri": "https://localhost:8080/"
        },
        "id": "PhXgl9qhF0lK",
        "outputId": "0c99f5a3-7334-4f4f-9a66-4c7874e16d92"
      },
      "execution_count": 86,
      "outputs": [
        {
          "output_type": "execute_result",
          "data": {
            "text/plain": [
              "((60000, 28, 28), (60000,))"
            ]
          },
          "metadata": {},
          "execution_count": 86
        }
      ]
    },
    {
      "cell_type": "code",
      "source": [
        "print(y_train)"
      ],
      "metadata": {
        "colab": {
          "base_uri": "https://localhost:8080/"
        },
        "id": "y3RZ-URlHR6j",
        "outputId": "b9874d87-8693-48df-d106-031396470ca4"
      },
      "execution_count": 87,
      "outputs": [
        {
          "output_type": "stream",
          "name": "stdout",
          "text": [
            "[5 0 4 ... 5 6 8]\n"
          ]
        }
      ]
    },
    {
      "cell_type": "markdown",
      "source": [
        "Let's look at some 10 of the Images"
      ],
      "metadata": {
        "id": "whxU9YmDJrXh"
      }
    },
    {
      "cell_type": "code",
      "source": [
        "from matplotlib import pyplot as plt\n",
        "plt.figure(figsize=(10,10))\n",
        "for i in range(10):\n",
        "   plt.subplot(5,5,i+1)\n",
        "   plt.xticks([])\n",
        "   plt.yticks([])\n",
        "   plt.grid(False)\n",
        "   plt.imshow(x_train[i], cmap=plt.cm.binary)\n",
        "   plt.xlabel(y_train[i])"
      ],
      "metadata": {
        "colab": {
          "base_uri": "https://localhost:8080/",
          "height": 251
        },
        "id": "R-IV6nRVHWLR",
        "outputId": "9270e55c-cba9-4e29-dce3-bca1230fb862"
      },
      "execution_count": 88,
      "outputs": [
        {
          "output_type": "display_data",
          "data": {
            "image/png": "[encoded data removed]",
            "text/plain": [
              "<Figure size 720x720 with 10 Axes>"
            ]
          },
          "metadata": {}
        }
      ]
    },
    {
      "cell_type": "code",
      "source": [
        "five = x_train[0].copy()\n",
        "plt.imshow(five,cmap = plt.cm.binary)"
      ],
      "metadata": {
        "colab": {
          "base_uri": "https://localhost:8080/",
          "height": 282
        },
        "id": "NBRzaLHkI2-r",
        "outputId": "4cf0a694-59c5-4ad3-98f2-902b6a96ef5b"
      },
      "execution_count": 89,
      "outputs": [
        {
          "output_type": "execute_result",
          "data": {
            "text/plain": [
              "<matplotlib.image.AxesImage at 0x7fd0f6a71d90>"
            ]
          },
          "metadata": {},
          "execution_count": 89
        },
        {
          "output_type": "display_data",
          "data": {
            "image/png": "[encoded data removed]",
            "text/plain": [
              "<Figure size 432x288 with 1 Axes>"
            ]
          },
          "metadata": {
            "needs_background": "light"
          }
        }
      ]
    },
    {
      "cell_type": "code",
      "source": [
        "print(five[6])\n",
        "five[five>0]=255\n",
        "print(five[6])\n",
        "# five[five<255]=255\n",
        "# five[five == 255]=0\n",
        "\n",
        "\n",
        "plt.imshow(five,cmap= plt.cm.binary)"
      ],
      "metadata": {
        "colab": {
          "base_uri": "https://localhost:8080/",
          "height": 352
        },
        "id": "VYb-_H9hLZbo",
        "outputId": "971cdd2d-352a-454b-9f05-13018bedea82"
      },
      "execution_count": 90,
      "outputs": [
        {
          "output_type": "stream",
          "name": "stdout",
          "text": [
            "[  0   0   0   0   0   0   0   0  30  36  94 154 170 253 253 253 253 253\n",
            " 225 172 253 242 195  64   0   0   0   0]\n",
            "[  0   0   0   0   0   0   0   0 255 255 255 255 255 255 255 255 255 255\n",
            " 255 255 255 255 255 255   0   0   0   0]\n"
          ]
        },
        {
          "output_type": "execute_result",
          "data": {
            "text/plain": [
              "<matplotlib.image.AxesImage at 0x7fd0f69dcb50>"
            ]
          },
          "metadata": {},
          "execution_count": 90
        },
        {
          "output_type": "display_data",
          "data": {
            "image/png": "[encoded data removed]",
            "text/plain": [
              "<Figure size 432x288 with 1 Axes>"
            ]
          },
          "metadata": {
            "needs_background": "light"
          }
        }
      ]
    },
    {
      "cell_type": "code",
      "source": [
        "print(f'We have {x_train.shape[0]} train Samples')\n",
        "print(f'We have {x_test.shape[0]} test Samples')"
      ],
      "metadata": {
        "colab": {
          "base_uri": "https://localhost:8080/"
        },
        "id": "ZRSbZbp5LuZY",
        "outputId": "2fee0f71-a48d-40e5-a43e-d9dcda0d2cf7"
      },
      "execution_count": 91,
      "outputs": [
        {
          "output_type": "stream",
          "name": "stdout",
          "text": [
            "We have 60000 train Samples\n",
            "We have 10000 test Samples\n"
          ]
        }
      ]
    },
    {
      "cell_type": "markdown",
      "source": [
        "### Preprocessing the Data\n",
        "\n",
        "to run our NN we need to pre-process the data\n",
        "                                                   First we need to make the 2D image arraysinto 1D(flatten them). We can either perform this by using array reshaping with numpy.reshape() or the keras' method for this: a layer called tf.keras.layers.Flatten which transforms the format of the images from a 2d-array(of 28 by 28 pixels), to a 1-D array of 28*28 = 784 pixels.\n",
        "\n",
        "  Then we need to normalize the pixel values(give them values between 0 and 1) using the following tranformation:\n",
        "\n"
      ],
      "metadata": {
        "id": "oM9jsH2AObOn"
      }
    },
    {
      "cell_type": "code",
      "source": [
        "# normalize the data\n",
        "x_train, x_test = x_train/ 255.0,x_test/255.0"
      ],
      "metadata": {
        "id": "Fmws3CR-MhE7"
      },
      "execution_count": 92,
      "outputs": []
    },
    {
      "cell_type": "code",
      "source": [
        "#reshape the data into 1D Vectors\n",
        " \n",
        "x_train = x_train.reshape(60000, 784)\n",
        "x_test = x_test.reshape(10000, 784)\n",
        "\n",
        "num_classes = 10"
      ],
      "metadata": {
        "id": "S-tEt82sN-RY"
      },
      "execution_count": 93,
      "outputs": []
    },
    {
      "cell_type": "code",
      "source": [
        "x_train.shape[1]"
      ],
      "metadata": {
        "colab": {
          "base_uri": "https://localhost:8080/"
        },
        "id": "aayxMg7AO5hu",
        "outputId": "1c02afb1-3f4e-4d85-cc0b-9010c0b681f3"
      },
      "execution_count": 94,
      "outputs": [
        {
          "output_type": "execute_result",
          "data": {
            "text/plain": [
              "784"
            ]
          },
          "metadata": {},
          "execution_count": 94
        }
      ]
    },
    {
      "cell_type": "markdown",
      "source": [
        "Now let's prepare our vector(y) to a binary class matrix, eg for use with categorical_crossentropy"
      ],
      "metadata": {
        "id": "fXRiqZ-LPBGg"
      }
    },
    {
      "cell_type": "code",
      "source": [
        "# Convert class vectors to binary class Matrices\n",
        "y_train = tf.keras.utils.to_categorical(y_train, num_classes)\n",
        "y_test = tf.keras.utils.to_categorical(y_test, num_classes)"
      ],
      "metadata": {
        "id": "dgZEnzsAO_cS"
      },
      "execution_count": 95,
      "outputs": []
    },
    {
      "cell_type": "code",
      "source": [
        "y_train[0]"
      ],
      "metadata": {
        "colab": {
          "base_uri": "https://localhost:8080/"
        },
        "id": "vdI6ZKCDPnan",
        "outputId": "4d1b2096-53cb-4abb-a445-f1004aa34b6e"
      },
      "execution_count": 96,
      "outputs": [
        {
          "output_type": "execute_result",
          "data": {
            "text/plain": [
              "array([0., 0., 0., 0., 0., 1., 0., 0., 0., 0.], dtype=float32)"
            ]
          },
          "metadata": {},
          "execution_count": 96
        }
      ]
    },
    {
      "cell_type": "markdown",
      "source": [
        "### Step - 2  Adjusting the Learning Rate"
      ],
      "metadata": {
        "id": "uwwhzvcuP8m0"
      }
    },
    {
      "cell_type": "code",
      "source": [
        "epochs = 60\n",
        "learning_rate = 0.1\n",
        "decay_rate = learning_rate / epochs\n",
        "momentum = 0.8\n",
        "\n",
        "sgd = SGD(lr = learning_rate, momentum= momentum, decay =decay_rate , nesterov = False )"
      ],
      "metadata": {
        "colab": {
          "base_uri": "https://localhost:8080/"
        },
        "id": "2KmItbsyP7hp",
        "outputId": "0b61df16-4e82-4f99-bb60-65fcedecc18a"
      },
      "execution_count": 97,
      "outputs": [
        {
          "output_type": "stream",
          "name": "stderr",
          "text": [
            "/usr/local/lib/python3.7/dist-packages/keras/optimizer_v2/gradient_descent.py:102: UserWarning: The `lr` argument is deprecated, use `learning_rate` instead.\n",
            "  super(SGD, self).__init__(name, **kwargs)\n"
          ]
        }
      ]
    },
    {
      "cell_type": "code",
      "source": [
        "# build the  MOdel\n",
        "input_dim = x_train.shape[1]\n",
        "\n",
        "lr_model = Sequential()\n",
        "lr_model.add(Dense(64, activation=tf.nn.relu, kernel_initializer='uniform',\n",
        "                   input_dim = input_dim))\n",
        "lr_model.add(Dropout(0.1))\n",
        "lr_model.add(Dense(64, kernel_initializer='uniform', activation=tf.nn.relu))\n",
        "lr_model.add(Dense(num_classes, kernel_initializer='uniform',activation=tf.nn.softmax))\n",
        "#compile the model\n",
        "lr_model.compile(loss = 'categorical_crossentropy',\n",
        "                 optimizer=sgd,\n",
        "                 metrics=['acc'])"
      ],
      "metadata": {
        "id": "SMnPayC0SA5n"
      },
      "execution_count": 98,
      "outputs": []
    },
    {
      "cell_type": "code",
      "source": [
        "# %%time\n",
        "#Fit the Model\n",
        "batch_size = int(input_dim/100)\n",
        "\n",
        "lr_model_history = lr_model.fit(x_train, y_train,batch_size=batch_size, epochs=epochs,\n",
        "                                verbose = 1,\n",
        "                                validation_data=(x_test, y_test))"
      ],
      "metadata": {
        "colab": {
          "base_uri": "https://localhost:8080/"
        },
        "id": "Cp5PAeEWTdb2",
        "outputId": "3d3b00b4-71a2-4028-fb65-14d122a85a4b"
      },
      "execution_count": 99,
      "outputs": [
        {
          "output_type": "stream",
          "name": "stdout",
          "text": [
            "Epoch 1/60\n",
            "8572/8572 [==============================] - 25s 3ms/step - loss: 0.3229 - acc: 0.9023 - val_loss: 0.1498 - val_acc: 0.9539\n",
            "Epoch 2/60\n",
            "8572/8572 [==============================] - 16s 2ms/step - loss: 0.1623 - acc: 0.9512 - val_loss: 0.1346 - val_acc: 0.9601\n",
            "Epoch 3/60\n",
            "8572/8572 [==============================] - 16s 2ms/step - loss: 0.1403 - acc: 0.9570 - val_loss: 0.1244 - val_acc: 0.9620\n",
            "Epoch 4/60\n",
            "8572/8572 [==============================] - 16s 2ms/step - loss: 0.1300 - acc: 0.9600 - val_loss: 0.1159 - val_acc: 0.9650\n",
            "Epoch 5/60\n",
            "8572/8572 [==============================] - 16s 2ms/step - loss: 0.1226 - acc: 0.9622 - val_loss: 0.1136 - val_acc: 0.9655\n",
            "Epoch 6/60\n",
            "8572/8572 [==============================] - 15s 2ms/step - loss: 0.1170 - acc: 0.9643 - val_loss: 0.1120 - val_acc: 0.9657\n",
            "Epoch 7/60\n",
            "8572/8572 [==============================] - 15s 2ms/step - loss: 0.1135 - acc: 0.9657 - val_loss: 0.1099 - val_acc: 0.9664\n",
            "Epoch 8/60\n",
            "8572/8572 [==============================] - 15s 2ms/step - loss: 0.1094 - acc: 0.9661 - val_loss: 0.1099 - val_acc: 0.9668\n",
            "Epoch 9/60\n",
            "8572/8572 [==============================] - 16s 2ms/step - loss: 0.1100 - acc: 0.9667 - val_loss: 0.1077 - val_acc: 0.9678\n",
            "Epoch 10/60\n",
            "8572/8572 [==============================] - 15s 2ms/step - loss: 0.1060 - acc: 0.9678 - val_loss: 0.1075 - val_acc: 0.9679\n",
            "Epoch 11/60\n",
            "8572/8572 [==============================] - 16s 2ms/step - loss: 0.1038 - acc: 0.9680 - val_loss: 0.1065 - val_acc: 0.9685\n",
            "Epoch 12/60\n",
            "8572/8572 [==============================] - 15s 2ms/step - loss: 0.1003 - acc: 0.9690 - val_loss: 0.1059 - val_acc: 0.9684\n",
            "Epoch 13/60\n",
            "8572/8572 [==============================] - 15s 2ms/step - loss: 0.1006 - acc: 0.9689 - val_loss: 0.1050 - val_acc: 0.9682\n",
            "Epoch 14/60\n",
            "8572/8572 [==============================] - 16s 2ms/step - loss: 0.1001 - acc: 0.9687 - val_loss: 0.1047 - val_acc: 0.9679\n",
            "Epoch 15/60\n",
            "8572/8572 [==============================] - 15s 2ms/step - loss: 0.1001 - acc: 0.9690 - val_loss: 0.1042 - val_acc: 0.9684\n",
            "Epoch 16/60\n",
            "8572/8572 [==============================] - 15s 2ms/step - loss: 0.0996 - acc: 0.9683 - val_loss: 0.1037 - val_acc: 0.9687\n",
            "Epoch 17/60\n",
            "8572/8572 [==============================] - 15s 2ms/step - loss: 0.0963 - acc: 0.9700 - val_loss: 0.1041 - val_acc: 0.9691\n",
            "Epoch 18/60\n",
            "8572/8572 [==============================] - 16s 2ms/step - loss: 0.0973 - acc: 0.9698 - val_loss: 0.1030 - val_acc: 0.9696\n",
            "Epoch 19/60\n",
            "8572/8572 [==============================] - 16s 2ms/step - loss: 0.0969 - acc: 0.9697 - val_loss: 0.1029 - val_acc: 0.9692\n",
            "Epoch 20/60\n",
            "8572/8572 [==============================] - 16s 2ms/step - loss: 0.0945 - acc: 0.9704 - val_loss: 0.1025 - val_acc: 0.9696\n",
            "Epoch 21/60\n",
            "8572/8572 [==============================] - 15s 2ms/step - loss: 0.0940 - acc: 0.9712 - val_loss: 0.1023 - val_acc: 0.9694\n",
            "Epoch 22/60\n",
            "8572/8572 [==============================] - 16s 2ms/step - loss: 0.0928 - acc: 0.9709 - val_loss: 0.1026 - val_acc: 0.9697\n",
            "Epoch 23/60\n",
            "8572/8572 [==============================] - 16s 2ms/step - loss: 0.0919 - acc: 0.9711 - val_loss: 0.1029 - val_acc: 0.9698\n",
            "Epoch 24/60\n",
            "8572/8572 [==============================] - 15s 2ms/step - loss: 0.0926 - acc: 0.9715 - val_loss: 0.1027 - val_acc: 0.9692\n",
            "Epoch 25/60\n",
            "8572/8572 [==============================] - 16s 2ms/step - loss: 0.0909 - acc: 0.9714 - val_loss: 0.1021 - val_acc: 0.9700\n",
            "Epoch 26/60\n",
            "8572/8572 [==============================] - 16s 2ms/step - loss: 0.0927 - acc: 0.9714 - val_loss: 0.1019 - val_acc: 0.9697\n",
            "Epoch 27/60\n",
            "8572/8572 [==============================] - 15s 2ms/step - loss: 0.0902 - acc: 0.9721 - val_loss: 0.1018 - val_acc: 0.9699\n",
            "Epoch 28/60\n",
            "8572/8572 [==============================] - 15s 2ms/step - loss: 0.0910 - acc: 0.9721 - val_loss: 0.1018 - val_acc: 0.9696\n",
            "Epoch 29/60\n",
            "8572/8572 [==============================] - 15s 2ms/step - loss: 0.0878 - acc: 0.9728 - val_loss: 0.1014 - val_acc: 0.9698\n",
            "Epoch 30/60\n",
            "8572/8572 [==============================] - 16s 2ms/step - loss: 0.0911 - acc: 0.9721 - val_loss: 0.1012 - val_acc: 0.9701\n",
            "Epoch 31/60\n",
            "8572/8572 [==============================] - 16s 2ms/step - loss: 0.0886 - acc: 0.9723 - val_loss: 0.1010 - val_acc: 0.9700\n",
            "Epoch 32/60\n",
            "8572/8572 [==============================] - 16s 2ms/step - loss: 0.0885 - acc: 0.9717 - val_loss: 0.1015 - val_acc: 0.9700\n",
            "Epoch 33/60\n",
            "8572/8572 [==============================] - 15s 2ms/step - loss: 0.0877 - acc: 0.9729 - val_loss: 0.1013 - val_acc: 0.9696\n",
            "Epoch 34/60\n",
            "8572/8572 [==============================] - 15s 2ms/step - loss: 0.0868 - acc: 0.9733 - val_loss: 0.1010 - val_acc: 0.9701\n",
            "Epoch 35/60\n",
            "8572/8572 [==============================] - 15s 2ms/step - loss: 0.0881 - acc: 0.9725 - val_loss: 0.1006 - val_acc: 0.9700\n",
            "Epoch 36/60\n",
            "8572/8572 [==============================] - 16s 2ms/step - loss: 0.0878 - acc: 0.9728 - val_loss: 0.1008 - val_acc: 0.9693\n",
            "Epoch 37/60\n",
            "8572/8572 [==============================] - 15s 2ms/step - loss: 0.0873 - acc: 0.9729 - val_loss: 0.1003 - val_acc: 0.9700\n",
            "Epoch 38/60\n",
            "8572/8572 [==============================] - 16s 2ms/step - loss: 0.0861 - acc: 0.9735 - val_loss: 0.1001 - val_acc: 0.9699\n",
            "Epoch 39/60\n",
            "8572/8572 [==============================] - 15s 2ms/step - loss: 0.0863 - acc: 0.9725 - val_loss: 0.1003 - val_acc: 0.9701\n",
            "Epoch 40/60\n",
            "8572/8572 [==============================] - 16s 2ms/step - loss: 0.0877 - acc: 0.9729 - val_loss: 0.1003 - val_acc: 0.9698\n",
            "Epoch 41/60\n",
            "8572/8572 [==============================] - 15s 2ms/step - loss: 0.0848 - acc: 0.9739 - val_loss: 0.1003 - val_acc: 0.9696\n",
            "Epoch 42/60\n",
            "8572/8572 [==============================] - 16s 2ms/step - loss: 0.0869 - acc: 0.9727 - val_loss: 0.1000 - val_acc: 0.9698\n",
            "Epoch 43/60\n",
            "8572/8572 [==============================] - 16s 2ms/step - loss: 0.0867 - acc: 0.9727 - val_loss: 0.1001 - val_acc: 0.9701\n",
            "Epoch 44/60\n",
            "8572/8572 [==============================] - 16s 2ms/step - loss: 0.0851 - acc: 0.9735 - val_loss: 0.1000 - val_acc: 0.9699\n",
            "Epoch 45/60\n",
            "8572/8572 [==============================] - 14s 2ms/step - loss: 0.0865 - acc: 0.9729 - val_loss: 0.1003 - val_acc: 0.9699\n",
            "Epoch 46/60\n",
            "8572/8572 [==============================] - 15s 2ms/step - loss: 0.0845 - acc: 0.9740 - val_loss: 0.0998 - val_acc: 0.9698\n",
            "Epoch 47/60\n",
            "8572/8572 [==============================] - 16s 2ms/step - loss: 0.0838 - acc: 0.9739 - val_loss: 0.0998 - val_acc: 0.9701\n",
            "Epoch 48/60\n",
            "8572/8572 [==============================] - 16s 2ms/step - loss: 0.0865 - acc: 0.9736 - val_loss: 0.0995 - val_acc: 0.9704\n",
            "Epoch 49/60\n",
            "8572/8572 [==============================] - 16s 2ms/step - loss: 0.0844 - acc: 0.9735 - val_loss: 0.0995 - val_acc: 0.9699\n",
            "Epoch 50/60\n",
            "8572/8572 [==============================] - 15s 2ms/step - loss: 0.0839 - acc: 0.9742 - val_loss: 0.0999 - val_acc: 0.9697\n",
            "Epoch 51/60\n",
            "8572/8572 [==============================] - 16s 2ms/step - loss: 0.0832 - acc: 0.9742 - val_loss: 0.0999 - val_acc: 0.9700\n",
            "Epoch 52/60\n",
            "8572/8572 [==============================] - 16s 2ms/step - loss: 0.0819 - acc: 0.9750 - val_loss: 0.0996 - val_acc: 0.9702\n",
            "Epoch 53/60\n",
            "8572/8572 [==============================] - 16s 2ms/step - loss: 0.0828 - acc: 0.9740 - val_loss: 0.0997 - val_acc: 0.9703\n",
            "Epoch 54/60\n",
            "8572/8572 [==============================] - 15s 2ms/step - loss: 0.0832 - acc: 0.9742 - val_loss: 0.0997 - val_acc: 0.9701\n",
            "Epoch 55/60\n",
            "8572/8572 [==============================] - 16s 2ms/step - loss: 0.0822 - acc: 0.9736 - val_loss: 0.0993 - val_acc: 0.9703\n",
            "Epoch 56/60\n",
            "8572/8572 [==============================] - 15s 2ms/step - loss: 0.0818 - acc: 0.9746 - val_loss: 0.0998 - val_acc: 0.9700\n",
            "Epoch 57/60\n",
            "8572/8572 [==============================] - 15s 2ms/step - loss: 0.0816 - acc: 0.9757 - val_loss: 0.0997 - val_acc: 0.9698\n",
            "Epoch 58/60\n",
            "8572/8572 [==============================] - 16s 2ms/step - loss: 0.0820 - acc: 0.9741 - val_loss: 0.0995 - val_acc: 0.9699\n",
            "Epoch 59/60\n",
            "8572/8572 [==============================] - 15s 2ms/step - loss: 0.0811 - acc: 0.9747 - val_loss: 0.0997 - val_acc: 0.9704\n",
            "Epoch 60/60\n",
            "8572/8572 [==============================] - 15s 2ms/step - loss: 0.0809 - acc: 0.9749 - val_loss: 0.0996 - val_acc: 0.9704\n"
          ]
        }
      ]
    },
    {
      "cell_type": "code",
      "source": [
        "fig, ax = plt.subplots(1,1,  figsize= (10,6))\n",
        "ax.plot(np.sqrt(lr_model_history.history['loss']),'r', label = 'train')\n",
        "ax.plot(np.sqrt(lr_model_history.history['val_loss']),'b', label = 'val')\n",
        "ax.set_xlabel(r'Epoch', fontsize = 20)\n",
        "ax.set_ylabel(r'Loss', fontsize = 20)\n",
        "ax.legend()\n",
        "ax.tick_params(labelsize = 20)"
      ],
      "metadata": {
        "colab": {
          "base_uri": "https://localhost:8080/",
          "height": 406
        },
        "id": "Tscp48l9VzRc",
        "outputId": "e6633ade-8a44-4f81-cc47-6cb8de5da3f7"
      },
      "execution_count": 100,
      "outputs": [
        {
          "output_type": "display_data",
          "data": {
            "image/png": "[encoded data removed]",
            "text/plain": [
              "<Figure size 720x432 with 1 Axes>"
            ]
          },
          "metadata": {
            "needs_background": "light"
          }
        }
      ]
    },
    {
      "cell_type": "code",
      "source": [
        "fig, ax = plt.subplots(1,1,  figsize= (10,6))\n",
        "ax.plot(np.sqrt(lr_model_history.history['acc']),'r', label = 'train')\n",
        "ax.plot(np.sqrt(lr_model_history.history['val_acc']),'r', label = 'val')\n",
        "ax.set_xlabel(r'Epoch', fontsize = 20)\n",
        "ax.set_ylabel(r'Accuracy', fontsize = 20)\n",
        "ax.legend()\n",
        "ax.tick_params(labelsize = 20)"
      ],
      "metadata": {
        "colab": {
          "base_uri": "https://localhost:8080/",
          "height": 406
        },
        "id": "jrcl4d_Mbenm",
        "outputId": "ac67dac0-54dc-4015-ba9a-840a376f39f5"
      },
      "execution_count": 101,
      "outputs": [
        {
          "output_type": "display_data",
          "data": {
            "image/png": "[encoded data removed]",
            "text/plain": [
              "<Figure size 720x432 with 1 Axes>"
            ]
          },
          "metadata": {
            "needs_background": "light"
          }
        }
      ]
    },
    {
      "cell_type": "code",
      "source": [
        "#solution\n",
        "\n",
        "epochs =30\n",
        "learning_rate = 0.1 #initial learning rate\n",
        "decay_rate = 0.1\n",
        "momentum = 0.8\n",
        "\n",
        "#define the optimizer function\n",
        "sgd = SGD(lr= learning_rate, momentum= momentum, decay=decay_rate, nesterov = False) "
      ],
      "metadata": {
        "colab": {
          "base_uri": "https://localhost:8080/"
        },
        "id": "Z9_CrEjtdceh",
        "outputId": "a0e5aac9-0922-4dd8-d072-5b2b8fc7b7b7"
      },
      "execution_count": 102,
      "outputs": [
        {
          "output_type": "stream",
          "name": "stderr",
          "text": [
            "/usr/local/lib/python3.7/dist-packages/keras/optimizer_v2/gradient_descent.py:102: UserWarning: The `lr` argument is deprecated, use `learning_rate` instead.\n",
            "  super(SGD, self).__init__(name, **kwargs)\n"
          ]
        }
      ]
    },
    {
      "cell_type": "code",
      "source": [
        "from keras.activations import exponential\n",
        "input_dim = x_train.shape[1]\n",
        "num_classes = 10\n",
        "batch_size = 196\n",
        "\n",
        "#build the model\n",
        "exponential_decay_model = Sequential()\n",
        "exponential_decay_model.add(Dense(64, activation = tf.nn.relu, kernel_initializer='uniform',\n",
        "                                  input_dim = input_dim))\n",
        "exponential_decay_model.add(Dropout(0.1))\n",
        "exponential_decay_model.add(Dense(64, kernel_initializer='uniform',\n",
        "                                  activation = tf.nn.relu))\n",
        "exponential_decay_model.add(Dense(num_classes, kernel_initializer='uniform',\n",
        "                                  activation = tf.nn.softmax))\n",
        "\n",
        "#compile the model\n",
        "exponential_decay_model.compile(loss='categorical_crossentropy',\n",
        "                                optimizer=sgd,\n",
        "                                metrics=['acc'])"
      ],
      "metadata": {
        "id": "BQrUuJ4giQQg"
      },
      "execution_count": 103,
      "outputs": []
    },
    {
      "cell_type": "code",
      "source": [
        "#define the learning rate change\n",
        "\n",
        "def exp_decay(epoch):\n",
        "  lrate = learning_rate * np.exp(-decay_rate*epoch)\n",
        "  return lrate\n"
      ],
      "metadata": {
        "id": "zuedbQp-kKZ7"
      },
      "execution_count": 104,
      "outputs": []
    },
    {
      "cell_type": "code",
      "source": [
        "# learning Schedule callback\n",
        "loss_history = History()\n",
        "lr_rate = LearningRateScheduler(exp_decay)\n",
        "callbacks_list = (loss_history, lr_rate)\n",
        "\n",
        "#you involve the LearningRateScheduler during the .fit() phase\n",
        "exponential_decay_model_history = exponential_decay_model.fit(x_train, y_train,\n",
        "                                                              batch_size = batch_size,\n",
        "                                                              epochs =epochs,\n",
        "                                                              callbacks=callbacks_list,\n",
        "                                                              verbose = 1,\n",
        "                                                              validation_data = (x_test,y_test))"
      ],
      "metadata": {
        "colab": {
          "base_uri": "https://localhost:8080/"
        },
        "id": "V9dQ8NdXkobI",
        "outputId": "54595df6-534d-4cde-9917-90e930c3cc4e"
      },
      "execution_count": 105,
      "outputs": [
        {
          "output_type": "stream",
          "name": "stdout",
          "text": [
            "Epoch 1/30\n",
            "307/307 [==============================] - 2s 5ms/step - loss: 2.0425 - acc: 0.3176 - val_loss: 1.5878 - val_acc: 0.4763 - lr: 0.1000\n",
            "Epoch 2/30\n",
            "307/307 [==============================] - 1s 4ms/step - loss: 1.3366 - acc: 0.5753 - val_loss: 1.0956 - val_acc: 0.6682 - lr: 0.0905\n",
            "Epoch 3/30\n",
            "307/307 [==============================] - 1s 4ms/step - loss: 1.0611 - acc: 0.6647 - val_loss: 0.9327 - val_acc: 0.7179 - lr: 0.0819\n",
            "Epoch 4/30\n",
            "307/307 [==============================] - 1s 4ms/step - loss: 0.9524 - acc: 0.6960 - val_loss: 0.8572 - val_acc: 0.7414 - lr: 0.0741\n",
            "Epoch 5/30\n",
            "307/307 [==============================] - 1s 4ms/step - loss: 0.8991 - acc: 0.7126 - val_loss: 0.8152 - val_acc: 0.7513 - lr: 0.0670\n",
            "Epoch 6/30\n",
            "307/307 [==============================] - 1s 4ms/step - loss: 0.8637 - acc: 0.7238 - val_loss: 0.7890 - val_acc: 0.7608 - lr: 0.0607\n",
            "Epoch 7/30\n",
            "307/307 [==============================] - 1s 4ms/step - loss: 0.8442 - acc: 0.7305 - val_loss: 0.7708 - val_acc: 0.7649 - lr: 0.0549\n",
            "Epoch 8/30\n",
            "307/307 [==============================] - 1s 4ms/step - loss: 0.8291 - acc: 0.7344 - val_loss: 0.7576 - val_acc: 0.7695 - lr: 0.0497\n",
            "Epoch 9/30\n",
            "307/307 [==============================] - 1s 4ms/step - loss: 0.8194 - acc: 0.7384 - val_loss: 0.7479 - val_acc: 0.7735 - lr: 0.0449\n",
            "Epoch 10/30\n",
            "307/307 [==============================] - 1s 4ms/step - loss: 0.8123 - acc: 0.7414 - val_loss: 0.7402 - val_acc: 0.7761 - lr: 0.0407\n",
            "Epoch 11/30\n",
            "307/307 [==============================] - 1s 4ms/step - loss: 0.8027 - acc: 0.7430 - val_loss: 0.7343 - val_acc: 0.7789 - lr: 0.0368\n",
            "Epoch 12/30\n",
            "307/307 [==============================] - 1s 4ms/step - loss: 0.7969 - acc: 0.7462 - val_loss: 0.7296 - val_acc: 0.7810 - lr: 0.0333\n",
            "Epoch 13/30\n",
            "307/307 [==============================] - 1s 4ms/step - loss: 0.7929 - acc: 0.7471 - val_loss: 0.7256 - val_acc: 0.7833 - lr: 0.0301\n",
            "Epoch 14/30\n",
            "307/307 [==============================] - 1s 4ms/step - loss: 0.7887 - acc: 0.7498 - val_loss: 0.7224 - val_acc: 0.7847 - lr: 0.0273\n",
            "Epoch 15/30\n",
            "307/307 [==============================] - 1s 4ms/step - loss: 0.7840 - acc: 0.7511 - val_loss: 0.7196 - val_acc: 0.7859 - lr: 0.0247\n",
            "Epoch 16/30\n",
            "307/307 [==============================] - 1s 4ms/step - loss: 0.7848 - acc: 0.7495 - val_loss: 0.7175 - val_acc: 0.7859 - lr: 0.0223\n",
            "Epoch 17/30\n",
            "307/307 [==============================] - 1s 4ms/step - loss: 0.7831 - acc: 0.7508 - val_loss: 0.7155 - val_acc: 0.7866 - lr: 0.0202\n",
            "Epoch 18/30\n",
            "307/307 [==============================] - 1s 4ms/step - loss: 0.7813 - acc: 0.7520 - val_loss: 0.7140 - val_acc: 0.7865 - lr: 0.0183\n",
            "Epoch 19/30\n",
            "307/307 [==============================] - 1s 4ms/step - loss: 0.7779 - acc: 0.7535 - val_loss: 0.7127 - val_acc: 0.7868 - lr: 0.0165\n",
            "Epoch 20/30\n",
            "307/307 [==============================] - 1s 4ms/step - loss: 0.7766 - acc: 0.7538 - val_loss: 0.7115 - val_acc: 0.7871 - lr: 0.0150\n",
            "Epoch 21/30\n",
            "307/307 [==============================] - 1s 4ms/step - loss: 0.7766 - acc: 0.7524 - val_loss: 0.7105 - val_acc: 0.7877 - lr: 0.0135\n",
            "Epoch 22/30\n",
            "307/307 [==============================] - 1s 4ms/step - loss: 0.7759 - acc: 0.7540 - val_loss: 0.7097 - val_acc: 0.7879 - lr: 0.0122\n",
            "Epoch 23/30\n",
            "307/307 [==============================] - 1s 4ms/step - loss: 0.7759 - acc: 0.7546 - val_loss: 0.7089 - val_acc: 0.7881 - lr: 0.0111\n",
            "Epoch 24/30\n",
            "307/307 [==============================] - 1s 4ms/step - loss: 0.7729 - acc: 0.7556 - val_loss: 0.7083 - val_acc: 0.7881 - lr: 0.0100\n",
            "Epoch 25/30\n",
            "307/307 [==============================] - 1s 4ms/step - loss: 0.7723 - acc: 0.7539 - val_loss: 0.7078 - val_acc: 0.7883 - lr: 0.0091\n",
            "Epoch 26/30\n",
            "307/307 [==============================] - 1s 4ms/step - loss: 0.7746 - acc: 0.7535 - val_loss: 0.7073 - val_acc: 0.7888 - lr: 0.0082\n",
            "Epoch 27/30\n",
            "307/307 [==============================] - 1s 4ms/step - loss: 0.7744 - acc: 0.7533 - val_loss: 0.7069 - val_acc: 0.7889 - lr: 0.0074\n",
            "Epoch 28/30\n",
            "307/307 [==============================] - 1s 4ms/step - loss: 0.7717 - acc: 0.7546 - val_loss: 0.7065 - val_acc: 0.7889 - lr: 0.0067\n",
            "Epoch 29/30\n",
            "307/307 [==============================] - 1s 4ms/step - loss: 0.7731 - acc: 0.7541 - val_loss: 0.7062 - val_acc: 0.7891 - lr: 0.0061\n",
            "Epoch 30/30\n",
            "307/307 [==============================] - 1s 4ms/step - loss: 0.7715 - acc: 0.7554 - val_loss: 0.7059 - val_acc: 0.7893 - lr: 0.0055\n"
          ]
        }
      ]
    },
    {
      "cell_type": "code",
      "source": [
        "# build the Model \n",
        "input_dim = x_train.shape[1]\n",
        "\n",
        "model = Sequential()\n",
        "model.add(Dense(64, activation = tf.nn.relu, kernel_initializer='uniform',\n",
        "                                  input_dim = input_dim))\n",
        "model.add(Dropout(0.1))\n",
        "model.add(Dense(64, kernel_initializer='uniform',\n",
        "                                  activation = tf.nn.relu))\n",
        "model.add(Dense(num_classes, kernel_initializer='uniform',\n",
        "                                  activation = tf.nn.softmax))\n"
      ],
      "metadata": {
        "id": "6zB43S5-rFqC"
      },
      "execution_count": 106,
      "outputs": []
    },
    {
      "cell_type": "code",
      "source": [
        "rms = RMSprop(lr = 0.001, rho = 0.9, epsilon = None , decay = 0.0)\n",
        "\n",
        "model.compile(loss = 'categorical_crossentropy',\n",
        "              optimizer = rms,\n",
        "              metrics = ['acc'])"
      ],
      "metadata": {
        "colab": {
          "base_uri": "https://localhost:8080/"
        },
        "id": "c-aotHW-mmR3",
        "outputId": "6a619f64-4c34-4c1b-d4fa-c018443970a7"
      },
      "execution_count": 107,
      "outputs": [
        {
          "output_type": "stream",
          "name": "stderr",
          "text": [
            "/usr/local/lib/python3.7/dist-packages/keras/optimizer_v2/rmsprop.py:130: UserWarning: The `lr` argument is deprecated, use `learning_rate` instead.\n",
            "  super(RMSprop, self).__init__(name, **kwargs)\n"
          ]
        }
      ]
    },
    {
      "cell_type": "code",
      "source": [
        "batch_size= input_dim\n",
        "epochs = 60\n",
        "\n",
        "model_History = model.fit(x_train,y_train,batch_size= batch_size,epochs=epochs,\n",
        "                         verbose= 1,validation_data=(x_test,y_test))"
      ],
      "metadata": {
        "colab": {
          "base_uri": "https://localhost:8080/"
        },
        "id": "1JCmg6DBsV-E",
        "outputId": "6667ae66-daf2-4d28-ffa9-b17edba2c06e"
      },
      "execution_count": 108,
      "outputs": [
        {
          "output_type": "stream",
          "name": "stdout",
          "text": [
            "Epoch 1/60\n",
            "77/77 [==============================] - 1s 12ms/step - loss: 1.0878 - acc: 0.7214 - val_loss: 0.5032 - val_acc: 0.8561\n",
            "Epoch 2/60\n",
            "77/77 [==============================] - 1s 10ms/step - loss: 0.4575 - acc: 0.8648 - val_loss: 0.3469 - val_acc: 0.9032\n",
            "Epoch 3/60\n",
            "77/77 [==============================] - 1s 10ms/step - loss: 0.3505 - acc: 0.8974 - val_loss: 0.2917 - val_acc: 0.9155\n",
            "Epoch 4/60\n",
            "77/77 [==============================] - 1s 10ms/step - loss: 0.2946 - acc: 0.9136 - val_loss: 0.2491 - val_acc: 0.9279\n",
            "Epoch 5/60\n",
            "77/77 [==============================] - 1s 10ms/step - loss: 0.2518 - acc: 0.9255 - val_loss: 0.2195 - val_acc: 0.9328\n",
            "Epoch 6/60\n",
            "77/77 [==============================] - 1s 10ms/step - loss: 0.2173 - acc: 0.9355 - val_loss: 0.1885 - val_acc: 0.9417\n",
            "Epoch 7/60\n",
            "77/77 [==============================] - 1s 10ms/step - loss: 0.1911 - acc: 0.9442 - val_loss: 0.1609 - val_acc: 0.9503\n",
            "Epoch 8/60\n",
            "77/77 [==============================] - 1s 10ms/step - loss: 0.1707 - acc: 0.9497 - val_loss: 0.1449 - val_acc: 0.9565\n",
            "Epoch 9/60\n",
            "77/77 [==============================] - 1s 10ms/step - loss: 0.1566 - acc: 0.9539 - val_loss: 0.1361 - val_acc: 0.9593\n",
            "Epoch 10/60\n",
            "77/77 [==============================] - 1s 10ms/step - loss: 0.1444 - acc: 0.9573 - val_loss: 0.1358 - val_acc: 0.9593\n",
            "Epoch 11/60\n",
            "77/77 [==============================] - 1s 10ms/step - loss: 0.1327 - acc: 0.9604 - val_loss: 0.1235 - val_acc: 0.9629\n",
            "Epoch 12/60\n",
            "77/77 [==============================] - 1s 10ms/step - loss: 0.1234 - acc: 0.9626 - val_loss: 0.1177 - val_acc: 0.9635\n",
            "Epoch 13/60\n",
            "77/77 [==============================] - 1s 10ms/step - loss: 0.1160 - acc: 0.9651 - val_loss: 0.1153 - val_acc: 0.9645\n",
            "Epoch 14/60\n",
            "77/77 [==============================] - 1s 10ms/step - loss: 0.1105 - acc: 0.9670 - val_loss: 0.1052 - val_acc: 0.9678\n",
            "Epoch 15/60\n",
            "77/77 [==============================] - 1s 9ms/step - loss: 0.1037 - acc: 0.9681 - val_loss: 0.1041 - val_acc: 0.9683\n",
            "Epoch 16/60\n",
            "77/77 [==============================] - 1s 10ms/step - loss: 0.0999 - acc: 0.9692 - val_loss: 0.1027 - val_acc: 0.9694\n",
            "Epoch 17/60\n",
            "77/77 [==============================] - 1s 10ms/step - loss: 0.0938 - acc: 0.9708 - val_loss: 0.1012 - val_acc: 0.9685\n",
            "Epoch 18/60\n",
            "77/77 [==============================] - 1s 10ms/step - loss: 0.0897 - acc: 0.9724 - val_loss: 0.0946 - val_acc: 0.9717\n",
            "Epoch 19/60\n",
            "77/77 [==============================] - 1s 10ms/step - loss: 0.0861 - acc: 0.9742 - val_loss: 0.0980 - val_acc: 0.9701\n",
            "Epoch 20/60\n",
            "77/77 [==============================] - 1s 10ms/step - loss: 0.0834 - acc: 0.9742 - val_loss: 0.0909 - val_acc: 0.9736\n",
            "Epoch 21/60\n",
            "77/77 [==============================] - 1s 10ms/step - loss: 0.0797 - acc: 0.9757 - val_loss: 0.0868 - val_acc: 0.9729\n",
            "Epoch 22/60\n",
            "77/77 [==============================] - 1s 10ms/step - loss: 0.0746 - acc: 0.9768 - val_loss: 0.0950 - val_acc: 0.9714\n",
            "Epoch 23/60\n",
            "77/77 [==============================] - 1s 10ms/step - loss: 0.0730 - acc: 0.9771 - val_loss: 0.0884 - val_acc: 0.9751\n",
            "Epoch 24/60\n",
            "77/77 [==============================] - 1s 10ms/step - loss: 0.0697 - acc: 0.9785 - val_loss: 0.0867 - val_acc: 0.9749\n",
            "Epoch 25/60\n",
            "77/77 [==============================] - 1s 10ms/step - loss: 0.0674 - acc: 0.9788 - val_loss: 0.0913 - val_acc: 0.9738\n",
            "Epoch 26/60\n",
            "77/77 [==============================] - 1s 10ms/step - loss: 0.0652 - acc: 0.9793 - val_loss: 0.0833 - val_acc: 0.9757\n",
            "Epoch 27/60\n",
            "77/77 [==============================] - 1s 10ms/step - loss: 0.0629 - acc: 0.9805 - val_loss: 0.0813 - val_acc: 0.9763\n",
            "Epoch 28/60\n",
            "77/77 [==============================] - 1s 10ms/step - loss: 0.0598 - acc: 0.9815 - val_loss: 0.0933 - val_acc: 0.9734\n",
            "Epoch 29/60\n",
            "77/77 [==============================] - 1s 10ms/step - loss: 0.0591 - acc: 0.9815 - val_loss: 0.0862 - val_acc: 0.9760\n",
            "Epoch 30/60\n",
            "77/77 [==============================] - 1s 9ms/step - loss: 0.0566 - acc: 0.9823 - val_loss: 0.0837 - val_acc: 0.9754\n",
            "Epoch 31/60\n",
            "77/77 [==============================] - 1s 10ms/step - loss: 0.0548 - acc: 0.9827 - val_loss: 0.0839 - val_acc: 0.9758\n",
            "Epoch 32/60\n",
            "77/77 [==============================] - 1s 10ms/step - loss: 0.0524 - acc: 0.9831 - val_loss: 0.0839 - val_acc: 0.9755\n",
            "Epoch 33/60\n",
            "77/77 [==============================] - 1s 10ms/step - loss: 0.0522 - acc: 0.9831 - val_loss: 0.0816 - val_acc: 0.9763\n",
            "Epoch 34/60\n",
            "77/77 [==============================] - 1s 10ms/step - loss: 0.0495 - acc: 0.9839 - val_loss: 0.0852 - val_acc: 0.9754\n",
            "Epoch 35/60\n",
            "77/77 [==============================] - 1s 10ms/step - loss: 0.0487 - acc: 0.9850 - val_loss: 0.0867 - val_acc: 0.9751\n",
            "Epoch 36/60\n",
            "77/77 [==============================] - 1s 10ms/step - loss: 0.0477 - acc: 0.9848 - val_loss: 0.0813 - val_acc: 0.9769\n",
            "Epoch 37/60\n",
            "77/77 [==============================] - 1s 11ms/step - loss: 0.0468 - acc: 0.9857 - val_loss: 0.0826 - val_acc: 0.9771\n",
            "Epoch 38/60\n",
            "77/77 [==============================] - 1s 10ms/step - loss: 0.0453 - acc: 0.9855 - val_loss: 0.0852 - val_acc: 0.9763\n",
            "Epoch 39/60\n",
            "77/77 [==============================] - 1s 10ms/step - loss: 0.0435 - acc: 0.9861 - val_loss: 0.0830 - val_acc: 0.9775\n",
            "Epoch 40/60\n",
            "77/77 [==============================] - 1s 10ms/step - loss: 0.0423 - acc: 0.9860 - val_loss: 0.0849 - val_acc: 0.9763\n",
            "Epoch 41/60\n",
            "77/77 [==============================] - 1s 10ms/step - loss: 0.0409 - acc: 0.9867 - val_loss: 0.0866 - val_acc: 0.9763\n",
            "Epoch 42/60\n",
            "77/77 [==============================] - 1s 9ms/step - loss: 0.0408 - acc: 0.9869 - val_loss: 0.0859 - val_acc: 0.9770\n",
            "Epoch 43/60\n",
            "77/77 [==============================] - 1s 10ms/step - loss: 0.0405 - acc: 0.9871 - val_loss: 0.0838 - val_acc: 0.9765\n",
            "Epoch 44/60\n",
            "77/77 [==============================] - 1s 10ms/step - loss: 0.0369 - acc: 0.9879 - val_loss: 0.0877 - val_acc: 0.9756\n",
            "Epoch 45/60\n",
            "77/77 [==============================] - 1s 10ms/step - loss: 0.0385 - acc: 0.9874 - val_loss: 0.0869 - val_acc: 0.9770\n",
            "Epoch 46/60\n",
            "77/77 [==============================] - 1s 10ms/step - loss: 0.0377 - acc: 0.9881 - val_loss: 0.0853 - val_acc: 0.9773\n",
            "Epoch 47/60\n",
            "77/77 [==============================] - 1s 10ms/step - loss: 0.0346 - acc: 0.9887 - val_loss: 0.0869 - val_acc: 0.9763\n",
            "Epoch 48/60\n",
            "77/77 [==============================] - 1s 10ms/step - loss: 0.0352 - acc: 0.9883 - val_loss: 0.0872 - val_acc: 0.9759\n",
            "Epoch 49/60\n",
            "77/77 [==============================] - 1s 10ms/step - loss: 0.0333 - acc: 0.9888 - val_loss: 0.0878 - val_acc: 0.9764\n",
            "Epoch 50/60\n",
            "77/77 [==============================] - 1s 10ms/step - loss: 0.0335 - acc: 0.9893 - val_loss: 0.0864 - val_acc: 0.9764\n",
            "Epoch 51/60\n",
            "77/77 [==============================] - 1s 10ms/step - loss: 0.0324 - acc: 0.9898 - val_loss: 0.0852 - val_acc: 0.9776\n",
            "Epoch 52/60\n",
            "77/77 [==============================] - 1s 10ms/step - loss: 0.0315 - acc: 0.9896 - val_loss: 0.0898 - val_acc: 0.9775\n",
            "Epoch 53/60\n",
            "77/77 [==============================] - 1s 10ms/step - loss: 0.0319 - acc: 0.9898 - val_loss: 0.0885 - val_acc: 0.9787\n",
            "Epoch 54/60\n",
            "77/77 [==============================] - 1s 10ms/step - loss: 0.0300 - acc: 0.9901 - val_loss: 0.0889 - val_acc: 0.9770\n",
            "Epoch 55/60\n",
            "77/77 [==============================] - 1s 10ms/step - loss: 0.0302 - acc: 0.9899 - val_loss: 0.0910 - val_acc: 0.9771\n",
            "Epoch 56/60\n",
            "77/77 [==============================] - 1s 10ms/step - loss: 0.0298 - acc: 0.9900 - val_loss: 0.0969 - val_acc: 0.9763\n",
            "Epoch 57/60\n",
            "77/77 [==============================] - 1s 10ms/step - loss: 0.0295 - acc: 0.9899 - val_loss: 0.0935 - val_acc: 0.9769\n",
            "Epoch 58/60\n",
            "77/77 [==============================] - 1s 9ms/step - loss: 0.0298 - acc: 0.9905 - val_loss: 0.0918 - val_acc: 0.9772\n",
            "Epoch 59/60\n",
            "77/77 [==============================] - 1s 10ms/step - loss: 0.0276 - acc: 0.9909 - val_loss: 0.0986 - val_acc: 0.9758\n",
            "Epoch 60/60\n",
            "77/77 [==============================] - 1s 10ms/step - loss: 0.0271 - acc: 0.9912 - val_loss: 0.0948 - val_acc: 0.9768\n"
          ]
        }
      ]
    },
    {
      "cell_type": "code",
      "source": [
        "score = model.evaluate(x_test, y_test, verbose = 0)\n",
        "print('Test loss', score[0])\n",
        "print('Test accuracy', score[1])"
      ],
      "metadata": {
        "colab": {
          "base_uri": "https://localhost:8080/"
        },
        "id": "YFnc5FywuCUd",
        "outputId": "1759a999-515f-4828-ef66-c8fb009d0ca0"
      },
      "execution_count": 109,
      "outputs": [
        {
          "output_type": "stream",
          "name": "stdout",
          "text": [
            "Test loss 0.09476263076066971\n",
            "Test accuracy 0.9768000245094299\n"
          ]
        }
      ]
    }
  ]
}